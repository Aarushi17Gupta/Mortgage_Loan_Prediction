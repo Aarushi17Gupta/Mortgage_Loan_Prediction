{
 "cells": [
  {
   "cell_type": "code",
   "execution_count": 1,
   "id": "6590e8b0",
   "metadata": {},
   "outputs": [],
   "source": [
    "import numpy as np\n",
    "import pandas as pd\n",
    "import matplotlib.pyplot as plt\n",
    "import seaborn as sns\n",
    "sns.set()\n",
    "import warnings\n",
    "warnings.filterwarnings(\"ignore\")\n",
    "from sklearn.model_selection import train_test_split\n",
    "#from sklearn.preprocessing import MinMaxScaler, StandardScaler, RobustScaler\n",
    "from sklearn.metrics import confusion_matrix, classification_report, roc_auc_score"
   ]
  },
  {
   "cell_type": "code",
   "execution_count": 2,
   "id": "62437ef7",
   "metadata": {},
   "outputs": [],
   "source": [
    "df=pd.read_csv('data_new.csv')"
   ]
  },
  {
   "cell_type": "code",
   "execution_count": 3,
   "id": "a3a678e9",
   "metadata": {},
   "outputs": [],
   "source": [
    "data=df.drop(['FirstPaymentDate', 'FirstTimeHomebuyer', 'MaturityDate','MSA',\\\n",
    "             'Occupancy', 'LTV',  'Channel', 'PPM', 'ProductType', 'PropertyState',\\\n",
    "       'PropertyType', 'PostalCode', 'LoanSeqNum', 'LoanPurpose',\\\n",
    "       'OrigLoanTerm', 'NumBorrowers', 'SellerName', 'ServicerName', 'MonthsDelinquent', 'MonthsInRepayment', 'IsFirstTime'], axis=1)"
   ]
  },
  {
   "cell_type": "code",
   "execution_count": 4,
   "id": "8e930314",
   "metadata": {},
   "outputs": [
    {
     "data": {
      "text/html": [
       "<div>\n",
       "<style scoped>\n",
       "    .dataframe tbody tr th:only-of-type {\n",
       "        vertical-align: middle;\n",
       "    }\n",
       "\n",
       "    .dataframe tbody tr th {\n",
       "        vertical-align: top;\n",
       "    }\n",
       "\n",
       "    .dataframe thead th {\n",
       "        text-align: right;\n",
       "    }\n",
       "</style>\n",
       "<table border=\"1\" class=\"dataframe\">\n",
       "  <thead>\n",
       "    <tr style=\"text-align: right;\">\n",
       "      <th></th>\n",
       "      <th>CreditScore</th>\n",
       "      <th>MIP</th>\n",
       "      <th>Units</th>\n",
       "      <th>OCLTV</th>\n",
       "      <th>DTI</th>\n",
       "      <th>OrigUPB</th>\n",
       "      <th>OrigInterestRate</th>\n",
       "      <th>EverDelinquent</th>\n",
       "      <th>Years in Repayment</th>\n",
       "      <th>Repay_range_in_years</th>\n",
       "      <th>CreditRange</th>\n",
       "      <th>LTV_range</th>\n",
       "    </tr>\n",
       "  </thead>\n",
       "  <tbody>\n",
       "    <tr>\n",
       "      <th>0</th>\n",
       "      <td>850</td>\n",
       "      <td>25</td>\n",
       "      <td>1</td>\n",
       "      <td>89</td>\n",
       "      <td>27</td>\n",
       "      <td>117000</td>\n",
       "      <td>6.750</td>\n",
       "      <td>0</td>\n",
       "      <td>4.3</td>\n",
       "      <td>4-10yrs</td>\n",
       "      <td>Excellent</td>\n",
       "      <td>High</td>\n",
       "    </tr>\n",
       "    <tr>\n",
       "      <th>1</th>\n",
       "      <td>850</td>\n",
       "      <td>0</td>\n",
       "      <td>1</td>\n",
       "      <td>73</td>\n",
       "      <td>17</td>\n",
       "      <td>109000</td>\n",
       "      <td>6.500</td>\n",
       "      <td>0</td>\n",
       "      <td>12.0</td>\n",
       "      <td>10-15yrs</td>\n",
       "      <td>Excellent</td>\n",
       "      <td>Medium</td>\n",
       "    </tr>\n",
       "    <tr>\n",
       "      <th>2</th>\n",
       "      <td>850</td>\n",
       "      <td>0</td>\n",
       "      <td>1</td>\n",
       "      <td>75</td>\n",
       "      <td>16</td>\n",
       "      <td>88000</td>\n",
       "      <td>6.875</td>\n",
       "      <td>0</td>\n",
       "      <td>5.6</td>\n",
       "      <td>4-10yrs</td>\n",
       "      <td>Excellent</td>\n",
       "      <td>Medium</td>\n",
       "    </tr>\n",
       "    <tr>\n",
       "      <th>3</th>\n",
       "      <td>850</td>\n",
       "      <td>0</td>\n",
       "      <td>1</td>\n",
       "      <td>76</td>\n",
       "      <td>14</td>\n",
       "      <td>160000</td>\n",
       "      <td>6.875</td>\n",
       "      <td>0</td>\n",
       "      <td>2.9</td>\n",
       "      <td>0-4yrs</td>\n",
       "      <td>Excellent</td>\n",
       "      <td>Medium</td>\n",
       "    </tr>\n",
       "    <tr>\n",
       "      <th>4</th>\n",
       "      <td>850</td>\n",
       "      <td>0</td>\n",
       "      <td>1</td>\n",
       "      <td>78</td>\n",
       "      <td>18</td>\n",
       "      <td>109000</td>\n",
       "      <td>7.125</td>\n",
       "      <td>0</td>\n",
       "      <td>4.5</td>\n",
       "      <td>4-10yrs</td>\n",
       "      <td>Excellent</td>\n",
       "      <td>Medium</td>\n",
       "    </tr>\n",
       "  </tbody>\n",
       "</table>\n",
       "</div>"
      ],
      "text/plain": [
       "   CreditScore  MIP  Units  OCLTV  DTI  OrigUPB  OrigInterestRate  \\\n",
       "0          850   25      1     89   27   117000             6.750   \n",
       "1          850    0      1     73   17   109000             6.500   \n",
       "2          850    0      1     75   16    88000             6.875   \n",
       "3          850    0      1     76   14   160000             6.875   \n",
       "4          850    0      1     78   18   109000             7.125   \n",
       "\n",
       "   EverDelinquent  Years in Repayment Repay_range_in_years CreditRange  \\\n",
       "0               0                 4.3              4-10yrs   Excellent   \n",
       "1               0                12.0             10-15yrs   Excellent   \n",
       "2               0                 5.6              4-10yrs   Excellent   \n",
       "3               0                 2.9               0-4yrs   Excellent   \n",
       "4               0                 4.5              4-10yrs   Excellent   \n",
       "\n",
       "  LTV_range  \n",
       "0      High  \n",
       "1    Medium  \n",
       "2    Medium  \n",
       "3    Medium  \n",
       "4    Medium  "
      ]
     },
     "execution_count": 4,
     "metadata": {},
     "output_type": "execute_result"
    }
   ],
   "source": [
    "data.head()"
   ]
  },
  {
   "cell_type": "code",
   "execution_count": 5,
   "id": "feabff5e",
   "metadata": {},
   "outputs": [],
   "source": [
    "data_with_dummies=pd.get_dummies(data,drop_first=True)\n",
    "data_with_dummies.head()\n",
    "\n",
    "x=data_with_dummies.drop(['EverDelinquent'], axis=1)\n",
    "y=data_with_dummies['EverDelinquent']"
   ]
  },
  {
   "cell_type": "code",
   "execution_count": 6,
   "id": "3d05191d",
   "metadata": {},
   "outputs": [],
   "source": [
    "from imblearn.over_sampling import SMOTE\n",
    "ros = SMOTE()\n",
    "X_res, y_res = ros.fit_resample(x, y)"
   ]
  },
  {
   "cell_type": "code",
   "execution_count": 8,
   "id": "1a9110c0",
   "metadata": {},
   "outputs": [],
   "source": [
    "# Split the dataset\n",
    "x_train,x_test,y_train,y_test=train_test_split(X_res,y_res,test_size=0.1, random_state=1)"
   ]
  },
  {
   "cell_type": "code",
   "execution_count": 9,
   "id": "e9965d4d",
   "metadata": {},
   "outputs": [
    {
     "data": {
      "text/html": [
       "<div>\n",
       "<style scoped>\n",
       "    .dataframe tbody tr th:only-of-type {\n",
       "        vertical-align: middle;\n",
       "    }\n",
       "\n",
       "    .dataframe tbody tr th {\n",
       "        vertical-align: top;\n",
       "    }\n",
       "\n",
       "    .dataframe thead th {\n",
       "        text-align: right;\n",
       "    }\n",
       "</style>\n",
       "<table border=\"1\" class=\"dataframe\">\n",
       "  <thead>\n",
       "    <tr style=\"text-align: right;\">\n",
       "      <th></th>\n",
       "      <th>CreditScore</th>\n",
       "      <th>MIP</th>\n",
       "      <th>Units</th>\n",
       "      <th>OCLTV</th>\n",
       "      <th>DTI</th>\n",
       "      <th>OrigUPB</th>\n",
       "      <th>OrigInterestRate</th>\n",
       "      <th>Years in Repayment</th>\n",
       "      <th>Repay_range_in_years_10-15yrs</th>\n",
       "      <th>Repay_range_in_years_15-20yrs</th>\n",
       "      <th>Repay_range_in_years_4-10yrs</th>\n",
       "      <th>CreditRange_Fair</th>\n",
       "      <th>CreditRange_Good</th>\n",
       "      <th>CreditRange_Poor</th>\n",
       "      <th>LTV_range_Low</th>\n",
       "      <th>LTV_range_Medium</th>\n",
       "    </tr>\n",
       "  </thead>\n",
       "  <tbody>\n",
       "    <tr>\n",
       "      <th>324725</th>\n",
       "      <td>671</td>\n",
       "      <td>30</td>\n",
       "      <td>1</td>\n",
       "      <td>95</td>\n",
       "      <td>35</td>\n",
       "      <td>164000</td>\n",
       "      <td>7.013172</td>\n",
       "      <td>5.084230</td>\n",
       "      <td>0</td>\n",
       "      <td>0</td>\n",
       "      <td>1</td>\n",
       "      <td>1</td>\n",
       "      <td>0</td>\n",
       "      <td>0</td>\n",
       "      <td>0</td>\n",
       "      <td>0</td>\n",
       "    </tr>\n",
       "    <tr>\n",
       "      <th>175817</th>\n",
       "      <td>763</td>\n",
       "      <td>0</td>\n",
       "      <td>1</td>\n",
       "      <td>75</td>\n",
       "      <td>40</td>\n",
       "      <td>150000</td>\n",
       "      <td>6.625000</td>\n",
       "      <td>4.400000</td>\n",
       "      <td>0</td>\n",
       "      <td>0</td>\n",
       "      <td>1</td>\n",
       "      <td>0</td>\n",
       "      <td>0</td>\n",
       "      <td>0</td>\n",
       "      <td>0</td>\n",
       "      <td>1</td>\n",
       "    </tr>\n",
       "    <tr>\n",
       "      <th>262843</th>\n",
       "      <td>684</td>\n",
       "      <td>0</td>\n",
       "      <td>1</td>\n",
       "      <td>77</td>\n",
       "      <td>33</td>\n",
       "      <td>176000</td>\n",
       "      <td>7.047205</td>\n",
       "      <td>3.075527</td>\n",
       "      <td>0</td>\n",
       "      <td>0</td>\n",
       "      <td>0</td>\n",
       "      <td>1</td>\n",
       "      <td>0</td>\n",
       "      <td>0</td>\n",
       "      <td>0</td>\n",
       "      <td>1</td>\n",
       "    </tr>\n",
       "    <tr>\n",
       "      <th>82597</th>\n",
       "      <td>699</td>\n",
       "      <td>25</td>\n",
       "      <td>1</td>\n",
       "      <td>90</td>\n",
       "      <td>33</td>\n",
       "      <td>144000</td>\n",
       "      <td>6.625000</td>\n",
       "      <td>12.400000</td>\n",
       "      <td>1</td>\n",
       "      <td>0</td>\n",
       "      <td>0</td>\n",
       "      <td>1</td>\n",
       "      <td>0</td>\n",
       "      <td>0</td>\n",
       "      <td>0</td>\n",
       "      <td>0</td>\n",
       "    </tr>\n",
       "    <tr>\n",
       "      <th>301803</th>\n",
       "      <td>742</td>\n",
       "      <td>0</td>\n",
       "      <td>1</td>\n",
       "      <td>73</td>\n",
       "      <td>33</td>\n",
       "      <td>155000</td>\n",
       "      <td>6.533326</td>\n",
       "      <td>3.759424</td>\n",
       "      <td>0</td>\n",
       "      <td>0</td>\n",
       "      <td>0</td>\n",
       "      <td>0</td>\n",
       "      <td>1</td>\n",
       "      <td>0</td>\n",
       "      <td>0</td>\n",
       "      <td>1</td>\n",
       "    </tr>\n",
       "  </tbody>\n",
       "</table>\n",
       "</div>"
      ],
      "text/plain": [
       "        CreditScore  MIP  Units  OCLTV  DTI  OrigUPB  OrigInterestRate  \\\n",
       "324725          671   30      1     95   35   164000          7.013172   \n",
       "175817          763    0      1     75   40   150000          6.625000   \n",
       "262843          684    0      1     77   33   176000          7.047205   \n",
       "82597           699   25      1     90   33   144000          6.625000   \n",
       "301803          742    0      1     73   33   155000          6.533326   \n",
       "\n",
       "        Years in Repayment  Repay_range_in_years_10-15yrs  \\\n",
       "324725            5.084230                              0   \n",
       "175817            4.400000                              0   \n",
       "262843            3.075527                              0   \n",
       "82597            12.400000                              1   \n",
       "301803            3.759424                              0   \n",
       "\n",
       "        Repay_range_in_years_15-20yrs  Repay_range_in_years_4-10yrs  \\\n",
       "324725                              0                             1   \n",
       "175817                              0                             1   \n",
       "262843                              0                             0   \n",
       "82597                               0                             0   \n",
       "301803                              0                             0   \n",
       "\n",
       "        CreditRange_Fair  CreditRange_Good  CreditRange_Poor  LTV_range_Low  \\\n",
       "324725                 1                 0                 0              0   \n",
       "175817                 0                 0                 0              0   \n",
       "262843                 1                 0                 0              0   \n",
       "82597                  1                 0                 0              0   \n",
       "301803                 0                 1                 0              0   \n",
       "\n",
       "        LTV_range_Medium  \n",
       "324725                 0  \n",
       "175817                 1  \n",
       "262843                 1  \n",
       "82597                  0  \n",
       "301803                 1  "
      ]
     },
     "execution_count": 9,
     "metadata": {},
     "output_type": "execute_result"
    }
   ],
   "source": [
    "x_test.head()"
   ]
  },
  {
   "cell_type": "code",
   "execution_count": 10,
   "id": "fdbe5ecf",
   "metadata": {},
   "outputs": [],
   "source": [
    "import numpy as np\n",
    "x_train['CreditScore']=np.log(x_train['CreditScore']+1)\n",
    "x_train['MIP']=np.log(x_train['MIP']+1)\n",
    "x_train['OCLTV']=np.log(x_train['OCLTV']+1)\n",
    "x_train['DTI']=np.log(x_train['DTI']+1)\n",
    "x_train['OrigUPB']=np.log(x_train['OrigUPB']+1)\n",
    "x_train['OrigInterestRate']=np.log(x_train['OrigInterestRate']+1)\n",
    "x_train['Years in Repayment']=np.log(x_train['Years in Repayment']+1)"
   ]
  },
  {
   "cell_type": "code",
   "execution_count": 11,
   "id": "cc6934fa",
   "metadata": {},
   "outputs": [],
   "source": [
    "x_test['CreditScore']=np.log(x_test['CreditScore']+1)\n",
    "x_test['MIP']=np.log(x_test['MIP']+1)\n",
    "x_test['OCLTV']=np.log(x_test['OCLTV']+1)\n",
    "x_test['DTI']=np.log(x_test['DTI']+1)\n",
    "x_test['OrigUPB']=np.log(x_test['OrigUPB']+1)\n",
    "x_test['OrigInterestRate']=np.log(x_test['OrigInterestRate']+1)\n",
    "x_test['Years in Repayment']=np.log(x_test['Years in Repayment']+1)"
   ]
  },
  {
   "cell_type": "code",
   "execution_count": 12,
   "id": "08ff8d3a",
   "metadata": {},
   "outputs": [
    {
     "data": {
      "text/plain": [
       "LogisticRegression()"
      ]
     },
     "execution_count": 12,
     "metadata": {},
     "output_type": "execute_result"
    }
   ],
   "source": [
    "# Importing the relevent module for performing LogisticRegression\n",
    "from sklearn.linear_model import LogisticRegression\n",
    "logisticReg=LogisticRegression()\n",
    "\n",
    "logisticReg.fit(x_train, y_train)"
   ]
  },
  {
   "cell_type": "code",
   "execution_count": 13,
   "id": "9eca0d3e",
   "metadata": {},
   "outputs": [
    {
     "data": {
      "text/plain": [
       "array([0.96453183])"
      ]
     },
     "execution_count": 13,
     "metadata": {},
     "output_type": "execute_result"
    }
   ],
   "source": [
    "# The bias or intercept for the model\n",
    "logisticReg.intercept_"
   ]
  },
  {
   "cell_type": "code",
   "execution_count": 14,
   "id": "3702022f",
   "metadata": {},
   "outputs": [
    {
     "data": {
      "text/plain": [
       "array([1, 0, 1, ..., 0, 1, 0], dtype=int64)"
      ]
     },
     "execution_count": 14,
     "metadata": {},
     "output_type": "execute_result"
    }
   ],
   "source": [
    "# Predicted values from the Logistic Regression\n",
    "y_pred_train=logisticReg.predict(x_train)\n",
    "y_pred_train"
   ]
  },
  {
   "cell_type": "code",
   "execution_count": 15,
   "id": "cca93643",
   "metadata": {},
   "outputs": [
    {
     "data": {
      "text/plain": [
       "array([[115381,  39173],\n",
       "       [ 47740, 106899]], dtype=int64)"
      ]
     },
     "execution_count": 15,
     "metadata": {},
     "output_type": "execute_result"
    }
   ],
   "source": [
    "confusion_matrix(y_train,logisticReg.predict(x_train))"
   ]
  },
  {
   "cell_type": "code",
   "execution_count": 16,
   "id": "3541536c",
   "metadata": {},
   "outputs": [
    {
     "name": "stdout",
     "output_type": "stream",
     "text": [
      "              precision    recall  f1-score   support\n",
      "\n",
      "           0       0.71      0.75      0.73    154554\n",
      "           1       0.73      0.69      0.71    154639\n",
      "\n",
      "    accuracy                           0.72    309193\n",
      "   macro avg       0.72      0.72      0.72    309193\n",
      "weighted avg       0.72      0.72      0.72    309193\n",
      "\n"
     ]
    }
   ],
   "source": [
    "print(classification_report(y_train,logisticReg.predict(x_train)))"
   ]
  },
  {
   "cell_type": "code",
   "execution_count": 23,
   "id": "47b216ff",
   "metadata": {},
   "outputs": [],
   "source": [
    "import pickle\n",
    "file=open(\"model.pkl\", 'wb')\n",
    "pickle.dump(logisticReg, file)"
   ]
  },
  {
   "cell_type": "code",
   "execution_count": 18,
   "id": "d063307b",
   "metadata": {},
   "outputs": [],
   "source": [
    "y_pred_test=logisticReg.predict(x_test)"
   ]
  },
  {
   "cell_type": "code",
   "execution_count": 21,
   "id": "7d71ed70",
   "metadata": {},
   "outputs": [
    {
     "name": "stdout",
     "output_type": "stream",
     "text": [
      "              precision    recall  f1-score   support\n",
      "\n",
      "           0       0.71      0.75      0.73     17220\n",
      "           1       0.73      0.70      0.71     17135\n",
      "\n",
      "    accuracy                           0.72     34355\n",
      "   macro avg       0.72      0.72      0.72     34355\n",
      "weighted avg       0.72      0.72      0.72     34355\n",
      "\n"
     ]
    }
   ],
   "source": [
    "print(classification_report(y_test,logisticReg.predict(x_test)))"
   ]
  }
 ],
 "metadata": {
  "kernelspec": {
   "display_name": "Python 3 (ipykernel)",
   "language": "python",
   "name": "python3"
  },
  "language_info": {
   "codemirror_mode": {
    "name": "ipython",
    "version": 3
   },
   "file_extension": ".py",
   "mimetype": "text/x-python",
   "name": "python",
   "nbconvert_exporter": "python",
   "pygments_lexer": "ipython3",
   "version": "3.9.7"
  }
 },
 "nbformat": 4,
 "nbformat_minor": 5
}
